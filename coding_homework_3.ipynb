{
  "nbformat": 4,
  "nbformat_minor": 0,
  "metadata": {
    "colab": {
      "provenance": [],
      "include_colab_link": true
    },
    "kernelspec": {
      "name": "python3",
      "display_name": "Python 3"
    },
    "language_info": {
      "name": "python"
    }
  },
  "cells": [
    {
      "cell_type": "markdown",
      "metadata": {
        "id": "view-in-github",
        "colab_type": "text"
      },
      "source": [
        "<a href=\"https://colab.research.google.com/github/pelusoi/Neural-Data-Analysis/blob/main/coding_homework_3.ipynb\" target=\"_parent\"><img src=\"https://colab.research.google.com/assets/colab-badge.svg\" alt=\"Open In Colab\"/></a>"
      ]
    },
    {
      "cell_type": "markdown",
      "source": [
        "# Coding Homework #3\n",
        "\n",
        "**Instructions**\n",
        "\n",
        "1. Make a *Markdown Cell* that contains the following information:\n",
        "- Your name (small header)\n",
        "- The name of this class (italicized)\n",
        "- The date (bolded)\n",
        "\n",
        "2. Make a *Code Cell* that imports <code>numpy</code> as <code>np</code>, <code>matplotlib.pyplot</code> as <code>plt</code>, and <code>scipy.stats</code> as <code>stats</code>.\n",
        "\n",
        "3. Make a *Code Cell* that imports your <code>v_rest_sst.csv</code> and <code>v_rest_pvalb.csv</code> variables as <code>numpy</code> arrays called <code>v_rest_sst</code> and <code>v_rest_pvalb</code> respectively.\n",
        "\n",
        "4. Make a *Code Cell* that does the following:\n",
        "  \n",
        "  a. Finds the means of <code>v_rest_sst</code> and <code>v_rest_pvalb</code>.\n",
        "  \n",
        "  b. Performs a t-test to test the null hypothesis that the means of <code>v_rest_sst</code> and <code>v_rest_pvalb</code> come from different distributions.\n",
        "\n",
        "  c. Plots a histogram of <code>v_rest_sst</code> in one subplot, and a histogram of <code>v_rest_pvalb</code> in another subplot if the p-value of the t-test is > 0.05. You can make two subplots using the syntax <code>fig, ax = plt.subplots(1,1)</code>. You should use an <code>if</code> statement to accomplish this.\n",
        "\n",
        "  d. Labels the y-axis and x-axis of your histograms (recall that <code>ax.ylabel</code> and <code>ax.xlabel</code> are the methods that let you accomplish this).\n",
        "\n",
        "5. Make a *Code Cell* that defines a function called <code>vrestHist()</code>. This function should execute the code in step 4 when called.\n",
        "\n",
        "6. Make a *Code Cell* that calls <code>vrestHist()</code>.\n",
        "\n",
        "7. Make a *Code Cell* that does the following:\n",
        "\n",
        "    a. Loops through each column of <code>v_rest_sst</code> and <code>v_rest_pvalb</code> and makes a scatter plot with <code>v_rest_sst</code> on the x-axis and <code>v_rest_pvalb</code> on the y-axis.\n",
        "\n",
        "    b. Each iteration of your loop should plot a different point on the scatter plot. At the end of your loop, you should have only one scatter plot with number of data points equal to the length of <code>v_rest_sst</code> and <code>v_rest_pvalb</code>.\n",
        "\n",
        "    c. Your loop should plot a <font color = 'red'>red</font> dot if *both* values in <code>v_rest_sst</code> and <code>v_rest_pvalb</code> are greater than -60, a <font color = 'green'>green</font> dot if values in <code>v_rest_sst</code> are greater than -60, but values in <code>v_rest_pvalb</code> are less than -60, a <font color = 'blue'>blue</font> dot if *both* values in <code>v_rest_sst</code> and <code>v_rest_pvalb</code> are less than -60, and a <font color = 'purple'>purple</font> dot if values in <code>v_rest_sst</code> are less than -60, but values in <code>v_rest_pvalb</code> are more than -60.\n",
        "\n",
        "    d. Labels your y-axis and your x-axis (this code should be outside of your loop).\n",
        "\n",
        "8. Make a *Code Cell* that defines a function called <code>vrestScatter()</code>. This function should execute the code in step 7 when called.\n",
        "\n",
        "9. Save a copy of this notebook to your GitHub repo with the title \"coding_homework_3.ipynb\"."
      ],
      "metadata": {
        "id": "zbzMCJlMN3ph"
      }
    },
    {
      "cell_type": "markdown",
      "source": [
        "###Iris Peluso###\n",
        "*Introduction to Neural Data Analysis*\n",
        "\n",
        "**February 27, 2024**"
      ],
      "metadata": {
        "id": "Cfzdxi5080rG"
      }
    },
    {
      "cell_type": "code",
      "source": [
        "#Importing numpy, matplotlib.pyplot, and scipy.stats\n",
        "import numpy as np\n",
        "import matplotlib.pyplot as plt\n",
        "import scipy.stats as stats"
      ],
      "metadata": {
        "id": "_yDpyLR69Z_Y"
      },
      "execution_count": 1,
      "outputs": []
    },
    {
      "cell_type": "code",
      "source": [
        "#Importing the v_rest_sst.csv and v_rest_pvalb.csv variables as numpy arrays called v_rest_sst and v_rest_pvalb\n",
        "url1='https://raw.githubusercontent.com/pelusoi/Neural-Data-Analysis/main/v_rest_sst.csv'\n",
        "url2='https://raw.githubusercontent.com/pelusoi/Neural-Data-Analysis/main/v_rest_pvalb.csv'\n",
        "v_rest_sst=np.loadtxt(url1)\n",
        "v_rest_pvalb=np.loadtxt(url2)"
      ],
      "metadata": {
        "id": "S1qjtrGj-Dkl"
      },
      "execution_count": 2,
      "outputs": []
    },
    {
      "cell_type": "code",
      "source": [
        "#Finding means, performing a t-test, plotting histograms, labeling x-axis and y-axis\n",
        "print(np.mean(v_rest_sst))\n",
        "print(np.mean(v_rest_pvalb))\n",
        "t_statistic, p_value = stats.ttest_ind(v_rest_sst, v_rest_pvalb)\n",
        "print(t_statistic)\n",
        "print(p_value)\n",
        "plt.hist(v_rest_sst)\n",
        "plt.ylabel('Frequency')\n",
        "plt.xlabel('Sst')\n",
        "if p_value > 0.05:\n",
        "  fig, ax = plt.subplots(1,1, figsize=(15,5))\n",
        "  ax.hist(v_rest_pvalb)\n",
        "  ax.ylabel('Frequency')\n",
        "  ax.xlabel('Pvalb')\n",
        "\n"
      ],
      "metadata": {
        "id": "IXN2ArXT_qO2",
        "outputId": "bc105dfd-54b4-4a7d-f239-283e240dd02a",
        "colab": {
          "base_uri": "https://localhost:8080/",
          "height": 520
        }
      },
      "execution_count": 3,
      "outputs": [
        {
          "output_type": "stream",
          "name": "stdout",
          "text": [
            "-67.73465864056\n",
            "-69.97869017908\n",
            "5.837507010328816\n",
            "7.159828660199036e-09\n"
          ]
        },
        {
          "output_type": "display_data",
          "data": {
            "text/plain": [
              "<Figure size 640x480 with 1 Axes>"
            ],
            "image/png": "[encoded data removed]"
          },
          "metadata": {}
        }
      ]
    },
    {
      "cell_type": "code",
      "source": [
        "#Defining a function called vrestHist() that executes the code in step 4 when called.\n",
        "def vrestHist():\n",
        "  print(np.mean(v_rest_sst))\n",
        "  print(np.mean(v_rest_pvalb))\n",
        "  t_statistic, p_value = stats.ttest_ind(v_rest_sst, v_rest_pvalb)\n",
        "  print(t_statistic)\n",
        "  print(p_value)\n",
        "  plt.hist(v_rest_sst)\n",
        "  plt.ylabel('Frequency')\n",
        "  plt.xlabel('Sst')\n",
        "  if p_value > 0.05:\n",
        "    fig, ax = plt.subplots(1,1, figsize=(15,5))\n",
        "    ax.hist(v_rest_pvalb)\n",
        "    ax.ylabel('Frequency')\n",
        "    ax.xlabel('Pvalb')\n"
      ],
      "metadata": {
        "id": "vw4bEAEqK5b-"
      },
      "execution_count": 5,
      "outputs": []
    },
    {
      "cell_type": "code",
      "source": [
        "#Calling vrestHist()\n",
        "vrestHist()"
      ],
      "metadata": {
        "id": "bUzYCgSCPQsJ",
        "outputId": "7c17ca12-076a-487b-dc9b-c55d0bf35253",
        "colab": {
          "base_uri": "https://localhost:8080/",
          "height": 520
        }
      },
      "execution_count": 6,
      "outputs": [
        {
          "output_type": "stream",
          "name": "stdout",
          "text": [
            "-67.73465864056\n",
            "-69.97869017908\n",
            "5.837507010328816\n",
            "7.159828660199036e-09\n"
          ]
        },
        {
          "output_type": "display_data",
          "data": {
            "text/plain": [
              "<Figure size 640x480 with 1 Axes>"
            ],
            "image/png": "[encoded data removed]"
          },
          "metadata": {}
        }
      ]
    },
    {
      "cell_type": "code",
      "source": [
        "#Make a Code Cell that does the following:\n",
        "#a. Loops through each column of v_rest_sst and v_rest_pvalb and makes a scatter plot with v_rest_sst on the x-axis and v_rest_pvalb on the y-axis.\n",
        "#b. Each iteration of your loop should plot a different point on the scatter plot. At the end of your loop, you should have only one scatter plot with number of data points equal to the length of v_rest_sst and v_rest_pvalb.\n",
        "#c. Your loop should plot a red dot if both values in v_rest_sst and v_rest_pvalb are greater than -60, a green dot if values in v_rest_sst are greater than -60, but values in v_rest_pvalb are less than -60, a blue dot if both values in v_rest_sst and v_rest_pvalb are less than -60, and a purple dot if values in v_rest_sst are less than -60, but values in v_rest_pvalb are more than -60.\n",
        "#d. Labels your y-axis and your x-axis (this code should be outside of your loop).\n",
        "v_rest=len(v_rest_sst, v_rest_pvalb)\n",
        "for i in range(v_rest):\n",
        "  if v_rest_sst > -60 and v_rest_pvalb > -60:\n",
        "    plt.scatter(v_rest_sst,v_rest_pvalb, color = 'red')\n",
        "\n",
        "\n",
        "\n"
      ],
      "metadata": {
        "id": "jje73qw8QZYx",
        "outputId": "ee991eb1-c5f2-44f9-8f22-1bc105db5735",
        "colab": {
          "base_uri": "https://localhost:8080/",
          "height": 251
        }
      },
      "execution_count": 7,
      "outputs": [
        {
          "output_type": "error",
          "ename": "TypeError",
          "evalue": "len() takes exactly one argument (2 given)",
          "traceback": [
            "\u001b[0;31m---------------------------------------------------------------------------\u001b[0m",
            "\u001b[0;31mTypeError\u001b[0m                                 Traceback (most recent call last)",
            "\u001b[0;32m<ipython-input-7-593d6f973044>\u001b[0m in \u001b[0;36m<cell line: 6>\u001b[0;34m()\u001b[0m\n\u001b[1;32m      4\u001b[0m \u001b[0;31m#c. Your loop should plot a red dot if both values in v_rest_sst and v_rest_pvalb are greater than -60, a green dot if values in v_rest_sst are greater than -60, but values in v_rest_pvalb are less than -60, a blue dot if both values in v_rest_sst and v_rest_pvalb are less than -60, and a purple dot if values in v_rest_sst are less than -60, but values in v_rest_pvalb are more than -60.\u001b[0m\u001b[0;34m\u001b[0m\u001b[0;34m\u001b[0m\u001b[0m\n\u001b[1;32m      5\u001b[0m \u001b[0;31m#d. Labels your y-axis and your x-axis (this code should be outside of your loop).\u001b[0m\u001b[0;34m\u001b[0m\u001b[0;34m\u001b[0m\u001b[0m\n\u001b[0;32m----> 6\u001b[0;31m \u001b[0mv_rest\u001b[0m\u001b[0;34m=\u001b[0m\u001b[0mlen\u001b[0m\u001b[0;34m(\u001b[0m\u001b[0mv_rest_sst\u001b[0m\u001b[0;34m,\u001b[0m \u001b[0mv_rest_pvalb\u001b[0m\u001b[0;34m)\u001b[0m\u001b[0;34m\u001b[0m\u001b[0;34m\u001b[0m\u001b[0m\n\u001b[0m\u001b[1;32m      7\u001b[0m \u001b[0;32mfor\u001b[0m \u001b[0mi\u001b[0m \u001b[0;32min\u001b[0m \u001b[0mrange\u001b[0m\u001b[0;34m(\u001b[0m\u001b[0mv_rest\u001b[0m\u001b[0;34m)\u001b[0m\u001b[0;34m:\u001b[0m\u001b[0;34m\u001b[0m\u001b[0;34m\u001b[0m\u001b[0m\n\u001b[1;32m      8\u001b[0m   \u001b[0;32mif\u001b[0m \u001b[0mv_rest_sst\u001b[0m \u001b[0;34m>\u001b[0m \u001b[0;34m-\u001b[0m\u001b[0;36m60\u001b[0m \u001b[0;32mand\u001b[0m \u001b[0mv_rest_pvalb\u001b[0m \u001b[0;34m>\u001b[0m \u001b[0;34m-\u001b[0m\u001b[0;36m60\u001b[0m\u001b[0;34m:\u001b[0m\u001b[0;34m\u001b[0m\u001b[0;34m\u001b[0m\u001b[0m\n",
            "\u001b[0;31mTypeError\u001b[0m: len() takes exactly one argument (2 given)"
          ]
        }
      ]
    }
  ]
}