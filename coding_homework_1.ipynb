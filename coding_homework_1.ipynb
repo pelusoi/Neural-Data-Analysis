{
  "nbformat": 4,
  "nbformat_minor": 0,
  "metadata": {
    "colab": {
      "provenance": [],
      "include_colab_link": true
    },
    "kernelspec": {
      "name": "python3",
      "display_name": "Python 3"
    },
    "language_info": {
      "name": "python"
    }
  },
  "cells": [
    {
      "cell_type": "markdown",
      "metadata": {
        "id": "view-in-github",
        "colab_type": "text"
      },
      "source": [
        "<a href=\"https://colab.research.google.com/github/pelusoi/Neural-Data-Analysis/blob/main/coding_homework_1.ipynb\" target=\"_parent\"><img src=\"https://colab.research.google.com/assets/colab-badge.svg\" alt=\"Open In Colab\"/></a>"
      ]
    },
    {
      "cell_type": "markdown",
      "source": [],
      "metadata": {
        "id": "T466JIzeqY_Y"
      }
    },
    {
      "cell_type": "markdown",
      "source": [
        "# Coding Homework #1\n",
        "\n",
        "**Instructions** (Note: it is very important you follow these instructions in order!)\n",
        "\n",
        "1. Run the first *Code Cell* below.\n",
        "\n",
        "2. Make a *Markdown Cell* that contains the following information:\n",
        "  * Your name (small header)\n",
        "  * The name of this class (italicized)\n",
        "  * The date (bolded)\n",
        "\n",
        "3. **Important!**: For each *Code Cell* that you create, make at least one line of code with a `#` in front of it that describes what your code does.\n",
        "\n",
        "4. Make a *Code Cell* that turns `v_rest_sst.csv` into a `Pandas DataFrame` called `pandas_data1`, and `v_rest_pvalb.csv` into a `Pandas DataFrame` called `pandas_data2`. Recall that we covered how to import `.csv` files as `Pandas DataFrames` in our in-class coding activity on January 31st.\n",
        "\n",
        "5. Make a *Code Cell* that converts `pandas_data1` into a `list` variable called `data1`, and converts `pandas_data2` into a `list` variable called `data2`. The following syntax is an example of how to do this:\n",
        "\n",
        "\n",
        "```\n",
        "data1 = pandas_data1.values.tolist()\n",
        "```\n",
        "\n",
        "6. When you convert a `Pandas DataFrame` into a `list`, it brackets each individual element - we don't want that! To get around this issue, make a *Code Cell* that flattens `data1` and `data2` using the `numpy.squeeze()` function. Your first *Code Cell* imported the `NumPy` module as `np`, so we can use the following code to flatten `data1`:\n",
        "\n",
        "\n",
        "```\n",
        "data1 = np.squeeze(data1)\n",
        "```\n",
        "&nbsp;&nbsp;&nbsp;&nbsp;&nbsp;&nbsp;&nbsp;&nbsp;&nbsp;&nbsp;Repeat this for `data2`.\n",
        "\n",
        "7. Make a *Code Cell* that prints the length of `data1`.\n",
        "\n",
        "8. Make a *Code Cell* that prints the 3rd, 4th, 5th, and 6th elements of `data2`.\n",
        "\n",
        "9. Make a *Code Cell* that prints the second-to-last and last elements of `data1` (use negative indexing).\n",
        "\n",
        "10. Make a *Code Cell* that prints the `type` of `data2` by using the `type` function.\n",
        "\n",
        "11. The first *Code Cell* you ran imports a module called `matplotlib`. In a new *Code Cell*, use `matplotlib` to make a histogram of `data1`. You can use the syntax `plt.hist()` to do this (remember that the variable you are applying the function to goes inside of the parentheses).\n",
        "\n",
        "12. In a new *Code Cell*, re-make your histogram and use the `plt.xlabel()` and `plt.ylabel()` functions to label your axes.\n",
        "\n",
        "13. In a new *Code Cell*, follow the instructions in steps 11 and 12 to make another histogram with axis labels for `data2`.\n",
        "\n",
        "14. In a new *Markdown Cell*, write a brief description of any differences that you observe between your two histograms. Does one group of cells seem to have a higher/lower resting membrane potential than the other group of cells?\n",
        "\n",
        "15. In a new *Code Cell*, create a new variable called `data3`. Let `data3` be a list containing both `data1` and `data2`.\n",
        "\n",
        "16. Make a *Code Cell* that prints the last element of `data2`. You must index `data3` to do this.\n",
        "\n",
        "17. Save a copy of this notebook to your GitHub repo with the title \"coding_homework_1.pynb\"."
      ],
      "metadata": {
        "id": "R8xCV2iP1KZ_"
      }
    },
    {
      "cell_type": "markdown",
      "source": [
        "###Iris Peluso\n",
        "*Introduction to Neural Data Analysis*\n",
        "\n",
        "**February 4, 2024**\n"
      ],
      "metadata": {
        "id": "Qocy0SCzsZwP"
      }
    },
    {
      "cell_type": "code",
      "source": [
        "#Turning csv file into a pandas DataFrame\n",
        "url1='https://raw.githubusercontent.com/pelusoi/Neural-Data-Analysis/main/v_rest_sst.csv'\n",
        "pandas_data1=pd.read_csv(url1)\n",
        "url2='https://raw.githubusercontent.com/pelusoi/Neural-Data-Analysis/main/v_rest_pvalb.csv'\n",
        "pandas_data2=pd.read_csv(url2)"
      ],
      "metadata": {
        "id": "SLWK2rszuU5u"
      },
      "execution_count": 29,
      "outputs": []
    },
    {
      "cell_type": "code",
      "source": [
        "#converting pandas data into a list\n",
        "data1=pandas_data1.values.tolist()\n",
        "data2=pandas_data2.values.tolist()"
      ],
      "metadata": {
        "id": "qD_jO3ucxDLl"
      },
      "execution_count": 30,
      "outputs": []
    },
    {
      "cell_type": "code",
      "source": [
        "#Flattening data using NumPy\n",
        "data1=np.squeeze(data1)\n",
        "data2=np.squeeze(data2)"
      ],
      "metadata": {
        "id": "m7ICw_RNxyDl"
      },
      "execution_count": 31,
      "outputs": []
    },
    {
      "cell_type": "code",
      "source": [
        "#printing the length of data1\n",
        "print(len(data1))"
      ],
      "metadata": {
        "id": "40ogav80zNE2",
        "outputId": "68cb6373-5042-47e5-d40b-5b5a05f65d05",
        "colab": {
          "base_uri": "https://localhost:8080/"
        }
      },
      "execution_count": 32,
      "outputs": [
        {
          "output_type": "stream",
          "name": "stdout",
          "text": [
            "499\n"
          ]
        }
      ]
    },
    {
      "cell_type": "code",
      "source": [
        "#printing the 3rd, 4th, 5th, and 6th elements of data2\n",
        "print(data2[2:6])\n"
      ],
      "metadata": {
        "id": "TW3j6V1TzWet",
        "outputId": "ae339dc9-490a-41be-c3a4-e830f9f26001",
        "colab": {
          "base_uri": "https://localhost:8080/"
        }
      },
      "execution_count": 34,
      "outputs": [
        {
          "output_type": "stream",
          "name": "stdout",
          "text": [
            "[-72.36807022 -63.09300825 -75.5469301  -66.51929994]\n"
          ]
        }
      ]
    },
    {
      "cell_type": "code",
      "source": [
        "#printing the second-to-last and last elements of data1\n",
        "print(data1[-1])\n",
        "print(data1[-2])"
      ],
      "metadata": {
        "id": "YIwo-tv05gJ2",
        "outputId": "74951381-a9a2-4695-b517-ec15f1d70dd3",
        "colab": {
          "base_uri": "https://localhost:8080/"
        }
      },
      "execution_count": 37,
      "outputs": [
        {
          "output_type": "stream",
          "name": "stdout",
          "text": [
            "-75.10678711\n",
            "-65.59535842\n"
          ]
        }
      ]
    },
    {
      "cell_type": "code",
      "source": [
        "#type of data2\n",
        "type(data2)"
      ],
      "metadata": {
        "id": "v7rZJgyQ6VLL",
        "outputId": "30f059cb-893b-4d0b-b652-96c003576b91",
        "colab": {
          "base_uri": "https://localhost:8080/"
        }
      },
      "execution_count": 39,
      "outputs": [
        {
          "output_type": "execute_result",
          "data": {
            "text/plain": [
              "numpy.ndarray"
            ]
          },
          "metadata": {},
          "execution_count": 39
        }
      ]
    },
    {
      "cell_type": "code",
      "source": [
        "#using matplotlib to make a histogram of data1\n",
        "plt.hist(data1)"
      ],
      "metadata": {
        "id": "K9cOr90B7pAQ",
        "outputId": "01d234c6-1ce8-4971-8ce8-8e10985e7aed",
        "colab": {
          "base_uri": "https://localhost:8080/",
          "height": 519
        }
      },
      "execution_count": 40,
      "outputs": [
        {
          "output_type": "execute_result",
          "data": {
            "text/plain": [
              "(array([  3.,   4.,  23.,  77., 125., 107.,  90.,  42.,  21.,   7.]),\n",
              " array([-88.07835484, -84.19758717, -80.31681949, -76.43605182,\n",
              "        -72.55528415, -68.67451648, -64.7937488 , -60.91298113,\n",
              "        -57.03221346, -53.15144578, -49.27067811]),\n",
              " <BarContainer object of 10 artists>)"
            ]
          },
          "metadata": {},
          "execution_count": 40
        },
        {
          "output_type": "display_data",
          "data": {
            "text/plain": [
              "<Figure size 640x480 with 1 Axes>"
            ],
            "image/png": "[encoded data removed]"
          },
          "metadata": {}
        }
      ]
    },
    {
      "cell_type": "code",
      "source": [
        "#histogram with axes labels\n",
        "plt.hist(data1)\n",
        "plt.xlabel('sst resting membrane potential')\n",
        "plt.ylabel('frequency')\n"
      ],
      "metadata": {
        "id": "ek7Atlxt8ajD",
        "outputId": "a0bb596f-0db7-4a47-8daf-5d9b35a45782",
        "colab": {
          "base_uri": "https://localhost:8080/",
          "height": 467
        }
      },
      "execution_count": 46,
      "outputs": [
        {
          "output_type": "execute_result",
          "data": {
            "text/plain": [
              "Text(0, 0.5, 'frequency')"
            ]
          },
          "metadata": {},
          "execution_count": 46
        },
        {
          "output_type": "display_data",
          "data": {
            "text/plain": [
              "<Figure size 640x480 with 1 Axes>"
            ],
            "image/png": "[encoded data removed]"
          },
          "metadata": {}
        }
      ]
    },
    {
      "cell_type": "code",
      "source": [
        "#histogram of data2\n",
        "plt.hist(data2)\n",
        "plt.xlabel('pvalb resting membrane potential')\n",
        "plt.ylabel('frequency')"
      ],
      "metadata": {
        "id": "A6VixF9yBoMO",
        "outputId": "16b08695-7beb-4428-a878-7f23815d60c4",
        "colab": {
          "base_uri": "https://localhost:8080/",
          "height": 467
        }
      },
      "execution_count": 47,
      "outputs": [
        {
          "output_type": "execute_result",
          "data": {
            "text/plain": [
              "Text(0, 0.5, 'frequency')"
            ]
          },
          "metadata": {},
          "execution_count": 47
        },
        {
          "output_type": "display_data",
          "data": {
            "text/plain": [
              "<Figure size 640x480 with 1 Axes>"
            ],
            "image/png": "[encoded data removed]"
          },
          "metadata": {}
        }
      ]
    },
    {
      "cell_type": "markdown",
      "source": [
        "The second data set (pvalb) seems to have lower (more negative) resting membrane potentials than the first data set (sst). The peak of the bell curve of the second data set is more to the left on the x-axis than the first data set. The spreads of the two graphs are similar, but the first data set is more left skewed and the second data set is more right skewed."
      ],
      "metadata": {
        "id": "APRoy-ZCCDBC"
      }
    },
    {
      "cell_type": "code",
      "source": [
        "#creating data3 variable\n",
        "data3=list[data1,data2]\n",
        "print(data3)"
      ],
      "metadata": {
        "id": "vScVL_GzEyc5",
        "outputId": "e1ac6bac-c24c-4346-c2b8-23fb8c02f944",
        "colab": {
          "base_uri": "https://localhost:8080/"
        }
      },
      "execution_count": 52,
      "outputs": [
        {
          "output_type": "stream",
          "name": "stdout",
          "text": [
            "list[array([-69.60158234, -76.03420105, -71.16118393, -76.35402679,\n",
            "       -70.89105013, -64.11880341, -72.8632112 , -78.96890068,\n",
            "       -55.4531032 , -60.98506045, -66.61118807, -67.08294233,\n",
            "       -73.90523593, -74.63317594, -49.27067811, -76.05053997,\n",
            "       -65.45417595, -58.53314018, -66.28985665, -64.09106996,\n",
            "       -71.49303228, -65.11718958, -73.74140637, -74.81462097,\n",
            "       -71.32343356, -74.46990373, -65.03939126, -71.94757271,\n",
            "       -73.42034054, -71.10602856, -61.28795481, -73.79654069,\n",
            "       -64.48533249, -69.65824959, -73.71225967, -85.56860669,\n",
            "       -57.49219704, -76.91730436, -62.61127641, -67.08071963,\n",
            "       -78.45983535, -78.87342682, -76.14055703, -62.40101166,\n",
            "       -72.41336346, -62.03701146, -63.30990855, -62.02654052,\n",
            "       -73.0206111 , -63.11713295, -70.05060087, -75.7537974 ,\n",
            "       -57.15310111, -72.52368011, -70.86691952, -65.435009  ,\n",
            "       -66.87690226, -70.79107895, -71.34088898, -65.70912288,\n",
            "       -64.45794886, -62.82061958, -65.03326961, -61.37704976,\n",
            "       -71.51313705, -71.54903143, -83.53790652, -68.49228492,\n",
            "       -69.6041454 , -62.87747123, -74.85636139, -54.73170166,\n",
            "       -77.69460564, -64.62669296, -69.86093764, -65.05587959,\n",
            "       -68.77862973, -55.09686799, -66.43248901, -56.96581353,\n",
            "       -69.26803801, -72.17841131, -68.15136888, -62.40134335,\n",
            "       -60.88494746, -67.52377574, -70.86518784, -60.37558556,\n",
            "       -88.07835484, -59.87615204, -73.54752265, -73.22287681,\n",
            "       -69.20818329, -72.5652504 , -70.59999847, -60.50078994,\n",
            "       -72.06522716, -59.86587448, -75.3170912 , -59.54461755,\n",
            "       -67.08496857, -65.39528111, -72.42956266, -70.31389809,\n",
            "       -68.58932749, -64.41320763, -59.71260695, -77.1351532 ,\n",
            "       -65.23381297, -65.59081745, -67.45707495, -66.36160748,\n",
            "       -69.11232405, -72.0341507 , -63.74525209, -72.22005615,\n",
            "       -74.53474903, -75.80813876, -68.57572492, -67.76632908,\n",
            "       -68.33153229, -65.0000782 , -61.31007123, -70.38363711,\n",
            "       -75.21349452, -63.93945265, -72.44995975, -67.84818796,\n",
            "       -60.75012856, -74.52876698, -58.75748374, -63.62677956,\n",
            "       -61.27915421, -61.88136782, -69.50416565, -65.48161261,\n",
            "       -59.51444321, -68.14450607, -79.98264482, -60.29387808,\n",
            "       -64.53368239, -64.32379866, -68.16503319, -68.43512115,\n",
            "       -69.27951126, -69.25867123, -75.92359585, -72.16330643,\n",
            "       -66.97145081, -64.70171102, -63.16646576, -71.3835907 ,\n",
            "       -70.25067673, -69.39896698, -69.10929616, -68.25655556,\n",
            "       -66.67168172, -60.07902273, -75.34607488, -56.48171266,\n",
            "       -71.57238159, -75.29644945, -63.4872715 , -70.2859887 ,\n",
            "       -69.15053219, -60.01669629, -73.11348131, -63.27917904,\n",
            "       -68.5346199 , -65.1023201 , -79.2661764 , -69.39909539,\n",
            "       -63.99562073, -74.55087619, -62.03189447, -65.36183412,\n",
            "       -69.7470011 , -56.53311094, -66.24339167, -67.40492467,\n",
            "       -74.242669  , -55.67033844, -56.17936802, -67.32936605,\n",
            "       -77.79993508, -72.25501033, -75.37292099, -67.87254791,\n",
            "       -70.51520538, -72.24223883, -61.91494092, -63.10700573,\n",
            "       -70.11395749, -59.62518438, -61.07293565, -51.48458519,\n",
            "       -66.30011495, -79.81865276, -80.47326313, -70.21170722,\n",
            "       -64.76855554, -65.17264252, -73.82059937, -67.45876736,\n",
            "       -64.06676356, -72.68288345, -61.09326384, -64.45072937,\n",
            "       -56.06753604, -71.78608357, -71.08746084, -68.76479001,\n",
            "       -68.22115262, -68.05053647, -67.01037035, -63.44297791,\n",
            "       -70.18627319, -71.17393694, -67.56193314, -65.94196548,\n",
            "       -69.35439563, -75.1126297 , -70.54532089, -73.57199443,\n",
            "       -74.43336001, -65.50297601, -75.38870392, -71.66182917,\n",
            "       -61.10637689, -66.40493556, -66.43192749, -80.73605042,\n",
            "       -62.14216163, -72.01909637, -70.91654544, -62.3392334 ,\n",
            "       -81.69101477, -69.96053399, -65.84853134, -73.33995946,\n",
            "       -63.73537896, -60.27147055, -62.66623402, -64.57504411,\n",
            "       -68.95984968, -72.16342392, -62.49135617, -74.09387803,\n",
            "       -62.27021815, -77.16373634, -67.14715358, -71.76218414,\n",
            "       -74.6996069 , -55.91194509, -67.88657475, -71.77863948,\n",
            "       -66.01525116, -60.59973621, -68.52263919, -64.5441308 ,\n",
            "       -70.13085709, -77.52351227, -55.34079132, -72.18524725,\n",
            "       -86.77562783, -67.9360644 , -69.28638535, -70.6541008 ,\n",
            "       -70.23201158, -60.4083581 , -66.13476732, -70.55075302,\n",
            "       -49.78505271, -67.98327347, -65.67074169, -72.35991391,\n",
            "       -66.36555758, -74.09958649, -66.98343849, -69.30653672,\n",
            "       -65.99296739, -64.6806149 , -69.28155073, -70.42871649,\n",
            "       -69.09191449, -60.46000748, -74.58024258, -65.33491211,\n",
            "       -50.25564528, -55.44765759, -50.36280881, -63.75266605,\n",
            "       -70.60820493, -61.13761784, -70.36430359, -67.04978943,\n",
            "       -71.19510055, -77.00703291, -68.26411379, -66.00462283,\n",
            "       -70.07391957, -71.62137858, -71.7874332 , -76.30630938,\n",
            "       -60.28225867, -71.63561249, -67.07541171, -68.42366028,\n",
            "       -60.86039352, -64.6570694 , -75.40260792, -70.40130823,\n",
            "       -69.32685158, -79.68514845, -70.70703888, -68.66031799,\n",
            "       -74.66502211, -67.81319787, -56.81200676, -60.9640185 ,\n",
            "       -72.88499832, -67.97509596, -66.31971169, -72.43728104,\n",
            "       -56.13793329, -72.60331847, -62.1170595 , -61.97661448,\n",
            "       -67.1221199 , -72.292733  , -64.22607846, -71.82912514,\n",
            "       -73.648194  , -66.424031  , -66.82951951, -72.83542252,\n",
            "       -57.5851863 , -66.32573353, -57.08322837, -62.37359662,\n",
            "       -70.3766098 , -69.43260956, -62.45441402, -64.45186494,\n",
            "       -57.80003773, -62.04276228, -77.0738074 , -68.1209276 ,\n",
            "       -75.88807996, -67.26108282, -69.11968013, -74.37515869,\n",
            "       -62.93898434, -70.95106824, -54.99522885, -72.22157634,\n",
            "       -76.04053151, -79.18465146, -60.43568254, -59.22009418,\n",
            "       -68.76816644, -63.44908142, -61.32748371, -66.95791039,\n",
            "       -60.75041903, -75.14695168, -60.22303645, -77.87049802,\n",
            "       -68.18396274, -74.11492496, -68.1586007 , -69.94304148,\n",
            "       -56.4172821 , -74.09026395, -60.26861191, -73.97230391,\n",
            "       -62.21378775, -70.09690772, -55.74768947, -60.12852454,\n",
            "       -66.79418894, -76.95547824, -58.26898982, -62.67567444,\n",
            "       -72.87303607, -68.06471316, -62.13996744, -72.39876472,\n",
            "       -58.95242786, -64.55444736, -66.18260023, -65.52816486,\n",
            "       -70.67696014, -70.54809125, -76.54103317, -55.3401304 ,\n",
            "       -61.91234504, -70.67062912, -80.05899217, -73.32479512,\n",
            "       -70.2712532 , -76.20295664, -68.89843157, -58.0158577 ,\n",
            "       -77.40057712, -61.54638789, -61.68333594, -62.55176375,\n",
            "       -75.11889725, -70.63572475, -74.85720215, -62.27771105,\n",
            "       -67.64397091, -59.81836367, -80.20595551, -69.36550199,\n",
            "       -63.0047102 , -62.80444603, -75.27484989, -50.13717963,\n",
            "       -68.12047291, -65.01060104, -71.11690598, -72.38392019,\n",
            "       -55.57158589, -63.23344231, -71.04920543, -57.33995507,\n",
            "       -63.30730565, -66.32695829, -74.86869748, -70.70181732,\n",
            "       -67.93252563, -76.14720688, -69.44239977, -75.81846965,\n",
            "       -74.73778915, -69.16428833, -69.48479557, -74.80890619,\n",
            "       -65.17894516, -62.46923065, -70.08757401, -63.39532979,\n",
            "       -55.42611847, -76.69519565, -72.68961889, -62.72665405,\n",
            "       -67.61907806, -64.10990257, -49.38241653, -65.74585724,\n",
            "       -66.28070927, -57.46869787, -74.37116623, -62.83219029,\n",
            "       -72.76856842, -68.28082969, -67.96047974, -71.36225433,\n",
            "       -61.56610574, -62.06179905, -70.01165009, -60.7418967 ,\n",
            "       -75.5251298 , -73.36918085, -69.75941953, -69.24364471,\n",
            "       -64.0903511 , -61.43107054, -60.47599173, -64.72915268,\n",
            "       -70.2181954 , -69.20141525, -63.20739661, -68.61875916,\n",
            "       -68.11631088, -59.28414764, -63.15457802, -72.22069778,\n",
            "       -66.47199631, -68.23392868, -70.19525077, -68.07510185,\n",
            "       -64.44202688, -55.4433185 , -73.79512177, -74.20893012,\n",
            "       -71.13765508, -65.88638077, -59.97906952, -69.03668698,\n",
            "       -76.39529724, -71.92047254, -75.48787231, -68.59447988,\n",
            "       -69.71809673, -65.59535842, -75.10678711]), array([-49.92227745, -75.71939359, -72.36807022, -63.09300825,\n",
            "       -75.5469301 , -66.51929994, -71.50055833, -69.19734478,\n",
            "       -76.38503876, -65.96166784, -65.47980734, -59.95571342,\n",
            "       -69.94688056, -74.56247482, -69.56489473, -66.74425422,\n",
            "       -71.57112946, -71.23040619, -71.99371229, -79.66145376,\n",
            "       -60.18065071, -70.27087275, -69.51328714, -76.44443893,\n",
            "       -61.01587601, -66.54598575, -68.57077581, -72.52978809,\n",
            "       -69.55428314, -79.4150077 , -66.12706146, -69.61513367,\n",
            "       -69.59012375, -78.5484375 , -69.97646046, -63.67217359,\n",
            "       -69.80182966, -72.46670193, -72.17225588, -63.49881536,\n",
            "       -67.87744827, -75.48496437, -73.37054698, -73.57516549,\n",
            "       -68.23623112, -64.82718235, -61.53974394, -64.49179316,\n",
            "       -73.83959484, -65.12582397, -76.59335175, -71.79500173,\n",
            "       -68.45139211, -70.45548483, -78.36537799, -73.34691535,\n",
            "       -65.32437515, -79.56857345, -73.24215508, -69.29635385,\n",
            "       -69.78741977, -75.46377702, -62.96309948, -71.2908991 ,\n",
            "       -66.48377482, -70.91091711, -73.812372  , -72.20985667,\n",
            "       -69.96945784, -73.89710903, -70.69981384, -71.78472214,\n",
            "       -71.2366333 , -70.32203397, -66.84520028, -73.6830319 ,\n",
            "       -77.15300836, -74.30223999, -75.96343918, -76.60544031,\n",
            "       -67.4737871 , -76.80049515, -67.7835242 , -69.24444649,\n",
            "       -66.562117  , -72.70650968, -76.98647766, -66.31190213,\n",
            "       -69.16459317, -74.18300883, -71.13142395, -62.3826299 ,\n",
            "       -68.18338776, -63.91052628, -64.61604004, -72.53743896,\n",
            "       -70.0023076 , -63.52667872, -72.09005483, -73.98286141,\n",
            "       -73.68122973, -75.36988004, -63.33816433, -74.72358704,\n",
            "       -72.98912048, -60.64855893, -62.96065267, -70.52058983,\n",
            "       -65.0739793 , -70.13142204, -69.34797592, -64.24214935,\n",
            "       -60.40180155, -74.15554746, -62.72604243, -70.18133011,\n",
            "       -77.17841816, -72.41702576, -72.76734085, -68.70905668,\n",
            "       -59.70027161, -66.04749437, -75.0096283 , -71.56426004,\n",
            "       -70.73058777, -70.40543483, -77.96272637, -67.21768867,\n",
            "       -62.34071147, -67.34458567, -74.19429502, -54.57372829,\n",
            "       -67.21684692, -69.30513096, -76.5121479 , -80.21683048,\n",
            "       -59.9653595 , -73.41237432, -73.05031762, -70.17263031,\n",
            "       -77.22162056, -70.25255871, -82.15408834, -72.71630096,\n",
            "       -69.31910445, -68.52570852, -72.02950202, -76.86460935,\n",
            "       -69.15579376, -76.44434826, -66.28668386, -60.05406952,\n",
            "       -73.87456651, -66.03997612, -73.06031581, -68.57550176,\n",
            "       -66.47047848, -68.24995129, -69.39236832, -85.08712514,\n",
            "       -73.50475057, -69.75260573, -76.26741257, -72.10509532,\n",
            "       -70.37100337, -67.04726257, -60.13976256, -65.10165575,\n",
            "       -69.02886061, -85.27155304, -70.10099295, -77.42475683,\n",
            "       -71.36865343, -71.42564265, -71.51243693, -82.42582078,\n",
            "       -75.12544886, -75.26143592, -63.66333813, -77.75182037,\n",
            "       -71.46546402, -76.74580591, -72.42326508, -76.89894659,\n",
            "       -74.98883133, -74.44435215, -74.18211873, -74.98208694,\n",
            "       -66.89467176, -59.52435927, -65.33482596, -73.39031103,\n",
            "       -73.1117089 , -72.78417206, -63.24573794, -76.43845367,\n",
            "       -64.63129262, -76.49309049, -72.14073096, -71.46276754,\n",
            "       -70.05833664, -71.36121845, -64.8624588 , -75.33095856,\n",
            "       -77.79344801, -68.87708855, -72.68692271, -71.98399639,\n",
            "       -61.52872552, -76.10343628, -68.6402626 , -64.79378967,\n",
            "       -73.9802636 , -65.97551537, -76.23110786, -68.91499953,\n",
            "       -68.50564041, -80.33824412, -72.60192732, -76.7192465 ,\n",
            "       -69.05805206, -73.15496445, -67.31814399, -69.95926189,\n",
            "       -68.95418701, -72.35997655, -73.95244026, -73.83023148,\n",
            "       -74.94270515, -59.67759558, -84.95750921, -76.18991776,\n",
            "       -70.33806055, -70.37933519, -71.7372673 , -68.21913734,\n",
            "       -49.49433872, -66.35454677, -73.7895607 , -53.75135721,\n",
            "       -66.93729237, -76.61933081, -68.8260871 , -63.4189415 ,\n",
            "       -76.78218564, -65.03384469, -69.94968532, -74.06837671,\n",
            "       -72.76574071, -80.90219021, -71.08096568, -78.63107372,\n",
            "       -73.77603785, -64.25452919, -74.77297974, -60.50641493,\n",
            "       -74.5649236 , -71.13717461, -68.71527516, -67.64737256,\n",
            "       -73.21049336, -73.29004392, -73.7061259 , -63.52802963,\n",
            "       -72.52330685, -73.2239507 , -79.28403778, -70.04868735,\n",
            "       -71.07940535, -67.85340373, -78.81678351, -67.51880391,\n",
            "       -71.890758  , -66.06520844, -68.68455696, -64.39646114,\n",
            "       -61.59294558, -45.16148875, -64.7178095 , -73.91056585,\n",
            "       -70.49212392, -73.39612656, -63.49754091, -65.00615921,\n",
            "       -63.66963005, -62.02658756, -66.55383911, -72.05497503,\n",
            "       -64.34342722, -62.05006065, -69.84383087, -64.97148599,\n",
            "       -61.45362244, -73.95245504, -65.67422829, -62.09718011,\n",
            "       -66.43787384, -71.20577698, -67.06706365, -72.19621059,\n",
            "       -75.62486619, -54.58956655, -68.87962827, -72.64556681,\n",
            "       -71.2754045 , -65.0824763 , -74.33086261, -72.2672037 ,\n",
            "       -64.61959839, -74.78640074, -79.90511958, -72.30972147,\n",
            "       -65.79442805, -63.43268551, -62.60790482, -58.98596107,\n",
            "       -74.84587288, -66.20994415, -75.16301589, -54.39849009,\n",
            "       -75.21203279, -79.70610136, -70.0041832 , -70.375103  ,\n",
            "       -73.08417829, -71.16105241, -65.22248777, -67.09128523,\n",
            "       -63.77032156, -68.20046528, -63.27102232, -75.99102783,\n",
            "       -56.01576498, -71.41725673, -68.33320236, -69.07180659,\n",
            "       -57.22267075, -68.05515416, -82.33782425, -76.2417634 ,\n",
            "       -73.24785086, -59.92043617, -78.28807309, -72.83539836,\n",
            "       -74.20873538, -65.11907768, -62.32539298, -63.8731339 ,\n",
            "       -69.85853022, -70.91732653, -63.33223486, -70.42216136,\n",
            "       -60.03927652, -71.84131317, -75.73205277, -69.89540159,\n",
            "       -76.13068814, -74.65531852, -71.24433136, -61.77188842,\n",
            "       -66.23051071, -75.88739177, -68.88990784, -71.56507492,\n",
            "       -80.3354204 , -78.24227715, -67.3556722 , -74.42930494,\n",
            "       -65.67231598, -67.09417586, -74.27500262, -74.98022715,\n",
            "       -73.50820351, -66.94791967, -75.38965289, -68.93162791,\n",
            "       -64.91291332, -67.29045633, -67.11269052, -70.42843018,\n",
            "       -66.35831451, -71.30635834, -58.89404511, -75.21479381,\n",
            "       -64.55495071, -77.46167831, -76.14933291, -70.13900687,\n",
            "       -72.11177965, -70.51647513, -62.15946752, -75.51109738,\n",
            "       -74.60552171, -66.27366447, -66.27600416, -61.15359179,\n",
            "       -74.41789848, -60.50629552, -66.06550598, -65.74472122,\n",
            "       -69.88450283, -75.47979889, -74.86978065, -60.54395828,\n",
            "       -77.0442955 , -79.43740012, -63.14792323, -70.18676122,\n",
            "       -74.24870508, -69.14681625, -75.91781547, -71.78303964,\n",
            "       -69.70603507, -73.3475257 , -71.4528567 , -69.14905777,\n",
            "       -57.86522848, -74.28701096, -70.68525357, -57.39815182,\n",
            "       -77.91744486, -67.2992185 , -76.28196023, -67.16720304,\n",
            "       -70.76006953, -76.03640747, -77.17564106, -74.84657574,\n",
            "       -79.16310883, -60.61034546, -76.74113464, -75.42171326,\n",
            "       -70.19531367, -66.20436096, -70.38792383, -68.58678532,\n",
            "       -69.11055069, -64.1710486 , -60.92217047, -73.05046921,\n",
            "       -70.45223652, -69.27200759, -60.36254501, -63.88057098,\n",
            "       -61.92678534, -75.11632831, -75.51814964, -58.05681463,\n",
            "       -71.34268273, -71.57948102, -64.32707051, -75.08819834,\n",
            "       -80.23915354, -69.4977985 , -66.75648816, -75.33296108,\n",
            "       -71.96166437, -72.81229609, -62.06727912, -72.23556488,\n",
            "       -72.42158356, -52.96717934, -69.9353825 , -62.71434729,\n",
            "       -72.46018524, -63.26730381, -77.91137356, -73.02782965,\n",
            "       -72.60526106, -73.19980081, -73.96719106, -82.52057571,\n",
            "       -72.38652971, -69.09519196, -67.54347588, -72.00463382,\n",
            "       -76.84164221, -73.10674763, -65.63651195, -65.86209259,\n",
            "       -68.14571615, -67.14822693, -68.49226685, -72.5674924 ,\n",
            "       -79.95694415, -80.09795237, -74.65723038, -63.31494037,\n",
            "       -74.89197111, -69.8301128 , -63.96796036, -74.18684387,\n",
            "       -61.5182235 , -72.24553375, -70.51967037, -69.91747561,\n",
            "       -71.44608222, -49.80412917, -54.08427915])]\n"
          ]
        }
      ]
    },
    {
      "cell_type": "code",
      "source": [
        "#Printing the last element of data2\n",
        "print(data2[-1])"
      ],
      "metadata": {
        "id": "BLfk1UF5I-LS",
        "outputId": "5a78dc4a-230c-4883-dfbb-672611038fbd",
        "colab": {
          "base_uri": "https://localhost:8080/"
        }
      },
      "execution_count": 59,
      "outputs": [
        {
          "output_type": "stream",
          "name": "stdout",
          "text": [
            "-54.08427915\n"
          ]
        }
      ]
    },
    {
      "cell_type": "code",
      "source": [
        "# Import matplotlib\n",
        "\n",
        "from matplotlib import pyplot as plt\n",
        "\n",
        "import pandas as pd\n",
        "\n",
        "import numpy as np"
      ],
      "metadata": {
        "id": "48IPWJIt59-Y"
      },
      "execution_count": 1,
      "outputs": []
    }
  ]
}