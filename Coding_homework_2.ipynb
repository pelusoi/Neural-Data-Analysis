{
  "nbformat": 4,
  "nbformat_minor": 0,
  "metadata": {
    "colab": {
      "provenance": [],
      "include_colab_link": true
    },
    "kernelspec": {
      "name": "python3",
      "display_name": "Python 3"
    },
    "language_info": {
      "name": "python"
    }
  },
  "cells": [
    {
      "cell_type": "markdown",
      "metadata": {
        "id": "view-in-github",
        "colab_type": "text"
      },
      "source": [
        "<a href=\"https://colab.research.google.com/github/pelusoi/Neural-Data-Analysis/blob/main/Coding_homework_2.ipynb\" target=\"_parent\"><img src=\"https://colab.research.google.com/assets/colab-badge.svg\" alt=\"Open In Colab\"/></a>"
      ]
    },
    {
      "cell_type": "markdown",
      "source": [
        "# Coding Homework #2\n",
        "\n",
        "**Instructions:**\n",
        "\n",
        "1. Make a *Markdown Cell* that contains the following information:\n",
        "- Your name (small header)\n",
        "- The name of this class (italicized)\n",
        "- The date (bolded)\n",
        "\n",
        "2. Make a *Code Cell* that imports <code>numpy</code> as <code>np</code>, <code>matplotlib.pyplot</code> as <code>plt</code>, <code>statistics</code> as <code>st</code>.\n",
        "\n",
        "3. Make a *Code Cell* that imports your <code>v_rest_sst.csv</code> and <code>v_rest_pvalb.csv</code> files as <code>numpy</code> arrays called <code>v_rest1</code> and <code>v_rest2</code> respectively. You're used to doing this with the <code>pd.read_csv</code> function for <code>pandas</code>, but can accomplish the same thing using the <code>np.loadtxt</code> function for <code>numpy</code>.\n",
        "\n",
        "4. Make a *Code Cell* that concatenates <code>v_rest_sst</code> and <code>v_rest_pvalb</code> into a matrix with 2 rows and 13 columns named <code>v_rest</code>.\n",
        "\n",
        "5. Make a *Code Cell* that prints the <code>size</code> of <code>v_rest</code>.\n",
        "\n",
        "6. Make a *Code Cell* that returns the first row of <code>v_rest</code>.\n",
        "\n",
        "7. Make a *Code Cell* that returns the sum of the values in the third column of <code>v_rest</code>. You can accomplish this by using <code>v_rest[].sum()</code>, with your index inside of the brackets. As an example, if I wanted to return the sum of the first row of <code>v_rest</code>, I could use <code>v_rest[0].sum()</code> to get my answer.\n",
        "\n",
        "8. Make a *Code Cell* that returns the second-to-last value in the second row of <code>v_rest</code> (use negative indexing for the column value).\n",
        "\n",
        "9. Create a *Code Cell* that makes a histogram of the values in the first row of <code>v_rest</code> (you can do this by using the <code>plt.hist()</code> function). Label your axes.\n",
        "\n",
        "10. Create a *Code Cell* that takes the mean of the values in the first row of <code>v_rest</code>, and assigns the mean to a variable called <code>v_rest_mean_sst</code>. Do the same thing for the second row of <code>v_rest</code>, and assign the mean value of the second row to a variable called <code>v_rest_mean_pvalb</code>. You can get the means by using the <code>st.mean()</code> function (remember to put what you want the mean *of* inside the parentheses of the function).\n",
        "\n",
        "11. Create a *Markdown Cell* that describes the difference in means between the two rows. Which one is bigger?\n",
        "\n",
        "12. How can we test whether the difference in means is *meaningful* (statistically significant)? When we're comparing two means, we can use a t-test (assuming the data are normally distributed). To use a t-test on our data, we will first need to import the <code>scipy</code> package. Create a new *Code Cell* that runs the following:\n",
        "\n",
        "<code>\n",
        "import scipy.stats as stats\n",
        "</code>\n",
        "\n",
        "13. Now, we can perform a t-test on the two rows of <code>v_rest</code>. To do this, create a new *Code Cell* that uses the <code>stats.ttest_ind()</code> function - for example:\n",
        "\n",
        "<code>\n",
        "stats.ttest_ind(row1, row2)\n",
        "</code>\n",
        "\n",
        "Replace <code>row1</code> and <code>row2</code> in this case with the first and second rows, respectively, of <code>v_rest</code>.\n",
        "\n",
        "14. Make a *Markdown Cell* that describes the results of your t-test. You should have <code>statistic</code> variable and a <code>pvalue</code> variable. The way to interpret your p-value is as a probability - specifically, the probability that the mean of one distribution could be found in the second distribution. Typically, results are considered to be \"statistically significant\" if the probability is lower than 5% - or 0.05. What is your p-value? Based on this p-value, do you think it is likely that the means are significantly different, or do you think it is likely that they are not?\n",
        "\n",
        "15. Make sure to add at least one line with a <code>#</code> in front of it to each *Code Cell* to describe what each cell does.\n",
        "\n",
        "15. Save a copy of this notebook to your GitHub repo with the title \"coding_homework_2.ipynb\"."
      ],
      "metadata": {
        "id": "CXEcCBSA_prs"
      }
    },
    {
      "cell_type": "markdown",
      "source": [
        "###Iris Peluso\n",
        "*Introduction to Neural Data Analysis*\n",
        "\n",
        "**February 16, 2024**\n"
      ],
      "metadata": {
        "id": "xNeuGPFGxGMu"
      }
    },
    {
      "cell_type": "code",
      "source": [
        "#importing numpy, matplotlib, and statistics\n",
        "import numpy as np\n",
        "import matplotlib.pyplot as plt\n",
        "import statistics as st"
      ],
      "metadata": {
        "id": "S4PdH49RxkoU"
      },
      "execution_count": 2,
      "outputs": []
    },
    {
      "cell_type": "code",
      "source": [
        "# Importing csv files as numpy arrays\n",
        "url1='https://raw.githubusercontent.com/pelusoi/Neural-Data-Analysis/main/v_rest_sst.csv'\n",
        "url2='https://raw.githubusercontent.com/pelusoi/Neural-Data-Analysis/main/v_rest_pvalb.csv'\n",
        "v_rest1=np.loadtxt(url1)\n",
        "v_rest2=np.loadtxt(url2)"
      ],
      "metadata": {
        "id": "83H9DvCtycY0"
      },
      "execution_count": 3,
      "outputs": []
    },
    {
      "cell_type": "code",
      "source": [
        "#Concatenating v_rest_sst and v_rest_pvalb into a matrix with 2 rows and 13 columns named v_rest.\n",
        "\n",
        "v_rest_sst = v_rest1[1:14]\n",
        "v_rest_pvalb = v_rest2[1:14]\n",
        "v_rest = np.array((v_rest_sst, v_rest_pvalb))\n",
        "print(v_rest)"
      ],
      "metadata": {
        "colab": {
          "base_uri": "https://localhost:8080/"
        },
        "id": "0X9056OGNhxv",
        "outputId": "015e9cf7-79e0-4928-8c62-2c6cc3ff9c5e"
      },
      "execution_count": 18,
      "outputs": [
        {
          "output_type": "stream",
          "name": "stdout",
          "text": [
            "[[-69.60158234 -76.03420105 -71.16118393 -76.35402679 -70.89105013\n",
            "  -64.11880341 -72.8632112  -78.96890068 -55.4531032  -60.98506045\n",
            "  -66.61118807 -67.08294233 -73.90523593]\n",
            " [-49.92227745 -75.71939359 -72.36807022 -63.09300825 -75.5469301\n",
            "  -66.51929994 -71.50055833 -69.19734478 -76.38503876 -65.96166784\n",
            "  -65.47980734 -59.95571342 -69.94688056]]\n"
          ]
        }
      ]
    },
    {
      "cell_type": "code",
      "source": [
        "#Size of v_rest.\n",
        "v_rest.size"
      ],
      "metadata": {
        "colab": {
          "base_uri": "https://localhost:8080/"
        },
        "id": "QJk7of6ScpCZ",
        "outputId": "296d998e-d825-42ba-f8e3-b92a608cebb2"
      },
      "execution_count": 5,
      "outputs": [
        {
          "output_type": "execute_result",
          "data": {
            "text/plain": [
              "26"
            ]
          },
          "metadata": {},
          "execution_count": 5
        }
      ]
    },
    {
      "cell_type": "code",
      "source": [
        "#The first row of v_rest\n",
        "v_rest[0,:]"
      ],
      "metadata": {
        "colab": {
          "base_uri": "https://localhost:8080/"
        },
        "id": "_G8ft2DydQla",
        "outputId": "0a5fd567-5fca-4763-a224-751c4ebdeb36"
      },
      "execution_count": 6,
      "outputs": [
        {
          "output_type": "execute_result",
          "data": {
            "text/plain": [
              "matrix([[-69.60158234, -76.03420105, -71.16118393, -76.35402679,\n",
              "         -70.89105013, -64.11880341, -72.8632112 , -78.96890068,\n",
              "         -55.4531032 , -60.98506045, -66.61118807, -67.08294233,\n",
              "         -73.90523593]])"
            ]
          },
          "metadata": {},
          "execution_count": 6
        }
      ]
    },
    {
      "cell_type": "code",
      "source": [
        "#Sum of the values in the third column\n",
        "v_rest[:,2].sum()"
      ],
      "metadata": {
        "colab": {
          "base_uri": "https://localhost:8080/"
        },
        "id": "4gi6cGmadmAB",
        "outputId": "b44e2782-32c6-4865-baa5-aa722afa935d"
      },
      "execution_count": 30,
      "outputs": [
        {
          "output_type": "execute_result",
          "data": {
            "text/plain": [
              "-143.52925415"
            ]
          },
          "metadata": {},
          "execution_count": 30
        }
      ]
    },
    {
      "cell_type": "code",
      "source": [
        "#Second-to-last value in the second row of v_rest\n",
        "v_rest[1,-2]"
      ],
      "metadata": {
        "colab": {
          "base_uri": "https://localhost:8080/"
        },
        "id": "KAByTduJd8SF",
        "outputId": "76bd82dd-123e-4107-a4b0-84117c576970"
      },
      "execution_count": 8,
      "outputs": [
        {
          "output_type": "execute_result",
          "data": {
            "text/plain": [
              "-59.95571342"
            ]
          },
          "metadata": {},
          "execution_count": 8
        }
      ]
    },
    {
      "cell_type": "code",
      "source": [
        "#Making a histogram of the values in the first row of v_rest\n",
        "plt.hist(v_rest[0,:])\n",
        "plt.xlabel('Sst')\n",
        "plt.ylabel('Frequency')"
      ],
      "metadata": {
        "colab": {
          "base_uri": "https://localhost:8080/",
          "height": 467
        },
        "id": "TgQq4hNXeR3G",
        "outputId": "bf80129c-2a63-4fd9-c220-f8977ca388a6"
      },
      "execution_count": 19,
      "outputs": [
        {
          "output_type": "execute_result",
          "data": {
            "text/plain": [
              "Text(0, 0.5, 'Frequency')"
            ]
          },
          "metadata": {},
          "execution_count": 19
        },
        {
          "output_type": "display_data",
          "data": {
            "text/plain": [
              "<Figure size 640x480 with 1 Axes>"
            ],
            "image/png": "[encoded data removed]"
          },
          "metadata": {}
        }
      ]
    },
    {
      "cell_type": "code",
      "source": [
        "#Mean of the first and second rows\n",
        "v_rest_mean_sst = st.mean(v_rest[0,:])\n",
        "v_rest_mean_pvalb = st.mean(v_rest[1,:])\n",
        "print(v_rest_mean_sst)\n",
        "print(v_rest_mean_pvalb)"
      ],
      "metadata": {
        "id": "wb1J9FzUjFCa",
        "outputId": "bcb318bf-18e2-4da9-83bb-49f33f1ee07a",
        "colab": {
          "base_uri": "https://localhost:8080/"
        }
      },
      "execution_count": 26,
      "outputs": [
        {
          "output_type": "stream",
          "name": "stdout",
          "text": [
            "-69.54080688538461\n",
            "-67.81507619846154\n"
          ]
        }
      ]
    },
    {
      "cell_type": "markdown",
      "source": [
        "The means of the two rows are pretty similar, but the mean for sst is lower (more negative) by two points."
      ],
      "metadata": {
        "id": "sPvmt5lpje07"
      }
    },
    {
      "cell_type": "code",
      "source": [
        "#Importing scipy.stats\n",
        "import scipy.stats as stats"
      ],
      "metadata": {
        "id": "Jm9qDN20jz_Y"
      },
      "execution_count": 27,
      "outputs": []
    },
    {
      "cell_type": "code",
      "source": [
        "#Performing a t-test on the two rows\n",
        "stats.ttest_ind(v_rest[0,:], v_rest[1,:])"
      ],
      "metadata": {
        "id": "aWuvFXbqj3VN",
        "outputId": "4d8873aa-b62a-4cf0-e40e-2196b6285412",
        "colab": {
          "base_uri": "https://localhost:8080/"
        }
      },
      "execution_count": 29,
      "outputs": [
        {
          "output_type": "execute_result",
          "data": {
            "text/plain": [
              "TtestResult(statistic=-0.6277493160241374, pvalue=0.5360960351295609, df=24.0)"
            ]
          },
          "metadata": {},
          "execution_count": 29
        }
      ]
    },
    {
      "cell_type": "markdown",
      "source": [
        "The t-test shows that there is not a statistically significant difference between the two variables. The p-value is about 0.53, which is a very high, greater than 0.05, meaning that the two rows are not statistically significantly different. There is about a 53% chance that the values of the two variables were that different by chance."
      ],
      "metadata": {
        "id": "voBuzIGqkNv1"
      }
    }
  ]
}